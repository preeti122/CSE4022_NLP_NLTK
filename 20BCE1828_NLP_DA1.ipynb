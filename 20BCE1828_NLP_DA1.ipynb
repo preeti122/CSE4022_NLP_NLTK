{
  "nbformat": 4,
  "nbformat_minor": 0,
  "metadata": {
    "colab": {
      "provenance": []
    },
    "kernelspec": {
      "name": "python3",
      "display_name": "Python 3"
    },
    "language_info": {
      "name": "python"
    }
  },
  "cells": [
    {
      "cell_type": "markdown",
      "source": [
        "PREETI PALLAVI\n",
        "\n",
        "20BCE1828\n",
        "\n",
        "NLP DA1"
      ],
      "metadata": {
        "id": "bMc7JQlH0F3f"
      }
    },
    {
      "cell_type": "markdown",
      "source": [
        "# 1. Utilize Python NLTK (Natural Language Tool Kit) Platform and do the following. Install relevant Packages and Libraries"
      ],
      "metadata": {
        "id": "lW6RcF2ySwyA"
      }
    },
    {
      "cell_type": "markdown",
      "source": [
        "Explore Brown Corpus and find the size, tokens, categories,"
      ],
      "metadata": {
        "id": "H2giDJotS1CV"
      }
    },
    {
      "cell_type": "code",
      "execution_count": null,
      "metadata": {
        "id": "So__AuFwA9sD"
      },
      "outputs": [],
      "source": [
        "import nltk\n",
        "# nltk.download(\"punkt\")\n",
        "#nltk.download(\"brown\")\n",
        "from nltk.corpus import brown\n",
        "from nltk.tokenize import sent_tokenize, word_tokenize"
      ]
    },
    {
      "cell_type": "code",
      "source": [
        "# Size of the brown corpus (number of texts)\n",
        "size = len(brown.fileids())\n",
        "print(\"Size of the Brown corpus:\", size)\n",
        "\n",
        "print(brown.words())\n",
        "\n",
        "# List of categories in the corpus\n",
        "categories = brown.categories()\n",
        "print(\"Categories in the brown corpus: \\n\", categories)\n"
      ],
      "metadata": {
        "colab": {
          "base_uri": "https://localhost:8080/"
        },
        "id": "_uVijA7sDaLD",
        "outputId": "a4c99e3e-f0b5-40f9-e166-e33ec6de7bf2"
      },
      "execution_count": null,
      "outputs": [
        {
          "output_type": "stream",
          "name": "stdout",
          "text": [
            "Size of the Brown corpus: 500\n",
            "['The', 'Fulton', 'County', 'Grand', 'Jury', 'said', ...]\n",
            "Categories in the brown corpus: \n",
            " ['adventure', 'belles_lettres', 'editorial', 'fiction', 'government', 'hobbies', 'humor', 'learned', 'lore', 'mystery', 'news', 'religion', 'reviews', 'romance', 'science_fiction']\n"
          ]
        }
      ]
    },
    {
      "cell_type": "markdown",
      "source": [
        "Find the size of word tokens"
      ],
      "metadata": {
        "id": "WRSo2MNkTAYQ"
      }
    },
    {
      "cell_type": "code",
      "source": [
        "# Number of tokens or words in the brown corpus\n",
        "tokens = len(brown.words())\n",
        "print(\"Number of tokens in the brown corpus:\", tokens)\n",
        "\n",
        "# alternative way\n",
        "raw_text = brown.raw()\n",
        "words = raw_text.split()\n",
        "tokens = len(words)\n",
        "print(\"Number of tokens:\", tokens)\n",
        "\n"
      ],
      "metadata": {
        "colab": {
          "base_uri": "https://localhost:8080/"
        },
        "id": "eoRCbodqCDRx",
        "outputId": "b9ce0d03-3253-489e-83a7-d0297ed91437"
      },
      "execution_count": null,
      "outputs": [
        {
          "output_type": "stream",
          "name": "stdout",
          "text": [
            "Number of tokens in the brown corpus: 1161192\n",
            "Number of tokens: 1161192\n"
          ]
        }
      ]
    },
    {
      "cell_type": "markdown",
      "source": [
        "Find the size of word types"
      ],
      "metadata": {
        "id": "d_SH2POJTCvG"
      }
    },
    {
      "cell_type": "code",
      "source": [
        "word_types = set(brown.words())\n",
        "print(\"Number of word types:\", len(word_types))"
      ],
      "metadata": {
        "colab": {
          "base_uri": "https://localhost:8080/"
        },
        "id": "A8GSpxZ5TGiK",
        "outputId": "91830b01-3b41-4963-f5f5-6b10ded6a940"
      },
      "execution_count": null,
      "outputs": [
        {
          "output_type": "stream",
          "name": "stdout",
          "text": [
            "Number of word types: 56057\n"
          ]
        }
      ]
    },
    {
      "cell_type": "markdown",
      "source": [
        "Find the size of the category “government”"
      ],
      "metadata": {
        "id": "ztTlhNTuTG63"
      }
    },
    {
      "cell_type": "code",
      "source": [
        "# List of words in the category 'adventure'\n",
        "words_in_adv = brown.words(categories='adventure')\n",
        "print(words_in_adv)\n",
        "print(\"Size of this category 'adventure':\", len(words_in_adv))"
      ],
      "metadata": {
        "colab": {
          "base_uri": "https://localhost:8080/"
        },
        "id": "S9wIjao0TIiS",
        "outputId": "0389be0a-7f69-4c34-d388-3b139fa1ee0f"
      },
      "execution_count": null,
      "outputs": [
        {
          "output_type": "stream",
          "name": "stdout",
          "text": [
            "['Dan', 'Morgan', 'told', 'himself', 'he', 'would', ...]\n",
            "Size of this category 'adventure': 69342\n"
          ]
        }
      ]
    },
    {
      "cell_type": "markdown",
      "source": [
        "List the most frequent tokens"
      ],
      "metadata": {
        "id": "i6pBeQt3TI1V"
      }
    },
    {
      "cell_type": "code",
      "source": [
        "freq = nltk.FreqDist(brown.words())\n",
        "print(freq.most_common(1))"
      ],
      "metadata": {
        "colab": {
          "base_uri": "https://localhost:8080/"
        },
        "id": "IUWfREK0TLS2",
        "outputId": "69b7210c-d8f9-434d-80ef-3cabcd1ce3b3"
      },
      "execution_count": null,
      "outputs": [
        {
          "output_type": "stream",
          "name": "stdout",
          "text": [
            "[('the', 62713)]\n"
          ]
        }
      ]
    },
    {
      "cell_type": "markdown",
      "source": [
        "Count the number of sentences"
      ],
      "metadata": {
        "id": "YppRnuNLTKnP"
      }
    },
    {
      "cell_type": "code",
      "source": [
        "sentences = []\n",
        "for fileid in brown.fileids():\n",
        "    text = brown.raw(fileid)\n",
        "    sentences.extend(sent_tokenize(text))\n",
        "num_sentences = len(sentences)\n",
        "print(\"Number of sentences:\", num_sentences)\n",
        "\n",
        "#alternatively\n",
        "num_sentences = len(brown.sents())\n",
        "print(\"Number of sentences:\", num_sentences)"
      ],
      "metadata": {
        "colab": {
          "base_uri": "https://localhost:8080/"
        },
        "id": "gTiQhRgNTP27",
        "outputId": "23f8d0cd-c608-4f4a-937c-ded1344fbc22"
      },
      "execution_count": 91,
      "outputs": [
        {
          "output_type": "stream",
          "name": "stdout",
          "text": [
            "Number of sentences: 60650\n",
            "Number of sentences: 57340\n"
          ]
        }
      ]
    },
    {
      "cell_type": "markdown",
      "source": [
        "# Q2. Explore the corpora available in NLTK (any two) \n",
        "    • Raw corpus\n",
        "    • POS tagged\n",
        "    • Parsed\n",
        "    • Multilingual aligned\n",
        "    • Spoken language\n",
        "    • Semantic tagged"
      ],
      "metadata": {
        "id": "mV7WfkpYXMXs"
      }
    },
    {
      "cell_type": "markdown",
      "source": [
        "POS Tagging"
      ],
      "metadata": {
        "id": "MX-kL2p2Xasc"
      }
    },
    {
      "cell_type": "code",
      "source": [
        "print(brown.tagged_words())"
      ],
      "metadata": {
        "colab": {
          "base_uri": "https://localhost:8080/"
        },
        "id": "QFL6kXqwdusr",
        "outputId": "c5021d11-83ed-40d5-c904-c23232a25277"
      },
      "execution_count": null,
      "outputs": [
        {
          "output_type": "stream",
          "name": "stdout",
          "text": [
            "[('The', 'AT'), ('Fulton', 'NP-TL'), ...]\n"
          ]
        }
      ]
    },
    {
      "cell_type": "code",
      "source": [
        "# nltk.download('averaged_perceptron_tagger')\n",
        "from nltk import pos_tag\n",
        "text = \"However you advise her, she will probably do it her way. She is the best judge of herself.\"\n",
        "text_tokens = word_tokenize(text)\n",
        "print(\"After tokenization: \\n\", text_tokens)\n",
        "text_tags = pos_tag(text_tokens)\n",
        "print(\"After POS tagging: \\n\", text_tags)"
      ],
      "metadata": {
        "colab": {
          "base_uri": "https://localhost:8080/"
        },
        "id": "tADMkbIhXMFq",
        "outputId": "cd3d2f3d-8fdd-4d56-b168-5f67e2316b9f"
      },
      "execution_count": null,
      "outputs": [
        {
          "output_type": "stream",
          "name": "stdout",
          "text": [
            "After tokenization: \n",
            " ['However', 'you', 'advise', 'her', ',', 'she', 'will', 'probably', 'do', 'it', 'her', 'way', '.', 'She', 'is', 'the', 'best', 'judge', 'of', 'herself', '.']\n",
            "After POS tagging: \n",
            " [('However', 'RB'), ('you', 'PRP'), ('advise', 'VBP'), ('her', 'PRP'), (',', ','), ('she', 'PRP'), ('will', 'MD'), ('probably', 'RB'), ('do', 'VB'), ('it', 'PRP'), ('her', 'PRP$'), ('way', 'NN'), ('.', '.'), ('She', 'PRP'), ('is', 'VBZ'), ('the', 'DT'), ('best', 'JJS'), ('judge', 'NN'), ('of', 'IN'), ('herself', 'NN'), ('.', '.')]\n"
          ]
        }
      ]
    },
    {
      "cell_type": "markdown",
      "source": [
        "Parsing"
      ],
      "metadata": {
        "id": "lwKBgpSjgrhT"
      }
    },
    {
      "cell_type": "code",
      "source": [
        "from nltk import CFG\n",
        "from nltk.parse import RecursiveDescentParser\n"
      ],
      "metadata": {
        "id": "SjbwIOc5dH2v"
      },
      "execution_count": 67,
      "outputs": []
    },
    {
      "cell_type": "code",
      "source": [
        "grmr = CFG.fromstring(\"\"\"\n",
        "    S -> NP VP\n",
        "    PP -> P NP\n",
        "    NP -> Det N | NP PP\n",
        "    VP -> V NP | VP PP\n",
        "    Det -> 'a' | 'my' | 'the'\n",
        "    N -> 'woman' | 'pie'\n",
        "    V -> 'ate'\n",
        "    P -> 'on'\n",
        "    \"\"\")\n",
        "line = \"a woman ate the pie\".split()\n",
        "parser = nltk.ChartParser(grmr)\n",
        "for tree in parser.parse(line):\n",
        "  print(tree)"
      ],
      "metadata": {
        "colab": {
          "base_uri": "https://localhost:8080/"
        },
        "id": "Wy3DCxlOo7Hr",
        "outputId": "b3b4ddcf-7527-4781-e5ec-606cf2232629"
      },
      "execution_count": 75,
      "outputs": [
        {
          "output_type": "stream",
          "name": "stdout",
          "text": [
            "(S (NP (Det a) (N woman)) (VP (V ate) (NP (Det the) (N pie))))\n"
          ]
        }
      ]
    },
    {
      "cell_type": "code",
      "source": [
        "grammar = CFG.fromstring(\"\"\"\n",
        "  S -> NP VP\n",
        "  VP -> V NP | V NP PP\n",
        "  PP -> P NP\n",
        "  V -> \"saw\"\n",
        "  NP -> \"Barry\" | Det N | Det N PP\n",
        "  Det -> \"a\" | \"an\" | \"the\"\n",
        "  N -> \"dog\" | \"cat\" | \"park\"\n",
        "  P -> \"in\" | \"on\"\n",
        "  \"\"\")\n",
        "sent = \"Barry saw a cat in the park\".split()\n",
        "rd_parser = nltk.RecursiveDescentParser(grammar1)\n",
        "for tree in rd_parser.parse(sent):\n",
        "  print(tree)"
      ],
      "metadata": {
        "colab": {
          "base_uri": "https://localhost:8080/"
        },
        "id": "ZLbI1-uIndFp",
        "outputId": "ddeaf082-b63f-4190-8dbe-506ba7fd862c"
      },
      "execution_count": 69,
      "outputs": [
        {
          "output_type": "stream",
          "name": "stdout",
          "text": [
            "(S\n",
            "  (NP Barry)\n",
            "  (VP\n",
            "    (V saw)\n",
            "    (NP (Det a) (N cat) (PP (P in) (NP (Det the) (N park))))))\n",
            "(S\n",
            "  (NP Barry)\n",
            "  (VP\n",
            "    (V saw)\n",
            "    (NP (Det a) (N cat))\n",
            "    (PP (P in) (NP (Det the) (N park)))))\n"
          ]
        }
      ]
    },
    {
      "cell_type": "markdown",
      "source": [
        "# 3. Create a text corpus with a minimum of 200 words (unique content). Implement the following text processing:\n",
        "\n",
        "    • Word segmentation\n",
        "    • Sentence segmentation\n",
        "    • Convert to Lowercase\n",
        "    • Stop words removal\n",
        "    • Stemming\n",
        "    • Lemmatization\n",
        "    • Part of speech tagger"
      ],
      "metadata": {
        "id": "KYrqM-iQbIoQ"
      }
    },
    {
      "cell_type": "code",
      "source": [
        "text_string = \"\"\" Indian culture is a rich and diverse blend of various customs, traditions, religions, and beliefs. India is known for its colorful festivals, delicious cuisine, intricate art and architecture, and spiritual practices.\n",
        "India harbors people from different religions, races, castes, etc. Every region has its unique set of culture and lifestyle.\n",
        "An important aspect of Indian culture is its assorted cuisine. Indian food is known for its use of spices and herbs, which give it its unique flavor and aroma. Some popular Indian dishes include biryani, dosa, samosas, chole bhature, and tandoori chicken.\n",
        "India is also famous for its vibrant festivals that are celebrated throughout the year. Some of the most popular festivals include Diwali, the festival of lights, and Holi, the festival of colors. These festivals are celebrated with great enthusiasm and are marked by traditional rituals, music, dance, and feast.\n",
        "Art and architecture are also important part of Indian culture. The country is home to some of the most beautiful and historic temples and monuments, such as the Taj Mahal, and the Sun Temple at Konark.\n",
        "In short, Indian culture is a blend of various customs, traditions, religions, and beliefs. From the rich and diverse cuisine to the beautiful shrines, temples, and monuments, Indian culture offers something for everyone to discover and appreciate.\n",
        "\"\"\"\n",
        "\n"
      ],
      "metadata": {
        "colab": {
          "base_uri": "https://localhost:8080/"
        },
        "id": "GPz--8RPrGjw",
        "outputId": "6f5e2ed2-0b34-4272-8503-d653b77bb5b7"
      },
      "execution_count": 76,
      "outputs": [
        {
          "output_type": "stream",
          "name": "stdout",
          "text": [
            "['Indian', 'culture', 'is', 'a', 'rich', 'and', 'diverse', 'blend', 'of', 'various', 'customs', ',', 'traditions', ',', 'religions', ',', 'and', 'beliefs', '.', 'India', 'is', 'known', 'for', 'its', 'colorful', 'festivals', ',', 'delicious', 'cuisine', ',', 'intricate', 'art', 'and', 'architecture', ',', 'and', 'spiritual', 'practices', '.', 'India', 'harbors', 'people', 'from', 'different', 'religions', ',', 'races', ',', 'castes', ',', 'etc', '.', 'Every', 'region', 'has', 'its', 'unique', 'set', 'of', 'culture', 'and', 'lifestyle', '.', 'An', 'important', 'aspect', 'of', 'Indian', 'culture', 'is', 'its', 'assorted', 'cuisine', '.', 'Indian', 'food', 'is', 'known', 'for', 'its', 'use', 'of', 'spices', 'and', 'herbs', ',', 'which', 'give', 'it', 'its', 'unique', 'flavor', 'and', 'aroma', '.', 'Some', 'popular', 'Indian', 'dishes', 'include', 'biryani', ',', 'dosa', ',', 'samosas', ',', 'chole', 'bhature', ',', 'and', 'tandoori', 'chicken', '.', 'India', 'is', 'also', 'famous', 'for', 'its', 'vibrant', 'festivals', 'that', 'are', 'celebrated', 'throughout', 'the', 'year', '.', 'Some', 'of', 'the', 'most', 'popular', 'festivals', 'include', 'Diwali', ',', 'the', 'festival', 'of', 'lights', ',', 'and', 'Holi', ',', 'the', 'festival', 'of', 'colors', '.', 'These', 'festivals', 'are', 'celebrated', 'with', 'great', 'enthusiasm', 'and', 'are', 'marked', 'by', 'traditional', 'rituals', ',', 'music', ',', 'dance', ',', 'and', 'feast', '.', 'Art', 'and', 'architecture', 'are', 'also', 'important', 'part', 'of', 'Indian', 'culture', '.', 'The', 'country', 'is', 'home', 'to', 'some', 'of', 'the', 'most', 'beautiful', 'and', 'historic', 'temples', 'and', 'monuments', ',', 'such', 'as', 'the', 'Taj', 'Mahal', ',', 'and', 'the', 'Sun', 'Temple', 'at', 'Konark', '.', 'In', 'short', ',', 'Indian', 'culture', 'is', 'a', 'blend', 'of', 'various', 'customs', ',', 'traditions', ',', 'religions', ',', 'and', 'beliefs', '.', 'From', 'the', 'rich', 'and', 'diverse', 'cuisine', 'to', 'the', 'beautiful', 'shrines', ',', 'temples', ',', 'and', 'monuments', ',', 'Indian', 'culture', 'offers', 'something', 'for', 'everyone', 'to', 'discover', 'and', 'appreciate', '.']\n",
            "257\n"
          ]
        }
      ]
    },
    {
      "cell_type": "markdown",
      "source": [
        "Word segmentation"
      ],
      "metadata": {
        "id": "0bIqZkPcrKFa"
      }
    },
    {
      "cell_type": "code",
      "source": [
        "words = word_tokenize(text_string)\n",
        "print(words)\n",
        "print(len(word_tokenize(text_string)))"
      ],
      "metadata": {
        "colab": {
          "base_uri": "https://localhost:8080/"
        },
        "id": "kePZNWznwZaM",
        "outputId": "c5f4bc41-aa45-4897-e656-00d87985dcbc"
      },
      "execution_count": 83,
      "outputs": [
        {
          "output_type": "stream",
          "name": "stdout",
          "text": [
            "['Indian', 'culture', 'is', 'a', 'rich', 'and', 'diverse', 'blend', 'of', 'various', 'customs', ',', 'traditions', ',', 'religions', ',', 'and', 'beliefs', '.', 'India', 'is', 'known', 'for', 'its', 'colorful', 'festivals', ',', 'delicious', 'cuisine', ',', 'intricate', 'art', 'and', 'architecture', ',', 'and', 'spiritual', 'practices', '.', 'India', 'harbors', 'people', 'from', 'different', 'religions', ',', 'races', ',', 'castes', ',', 'etc', '.', 'Every', 'region', 'has', 'its', 'unique', 'set', 'of', 'culture', 'and', 'lifestyle', '.', 'An', 'important', 'aspect', 'of', 'Indian', 'culture', 'is', 'its', 'assorted', 'cuisine', '.', 'Indian', 'food', 'is', 'known', 'for', 'its', 'use', 'of', 'spices', 'and', 'herbs', ',', 'which', 'give', 'it', 'its', 'unique', 'flavor', 'and', 'aroma', '.', 'Some', 'popular', 'Indian', 'dishes', 'include', 'biryani', ',', 'dosa', ',', 'samosas', ',', 'chole', 'bhature', ',', 'and', 'tandoori', 'chicken', '.', 'India', 'is', 'also', 'famous', 'for', 'its', 'vibrant', 'festivals', 'that', 'are', 'celebrated', 'throughout', 'the', 'year', '.', 'Some', 'of', 'the', 'most', 'popular', 'festivals', 'include', 'Diwali', ',', 'the', 'festival', 'of', 'lights', ',', 'and', 'Holi', ',', 'the', 'festival', 'of', 'colors', '.', 'These', 'festivals', 'are', 'celebrated', 'with', 'great', 'enthusiasm', 'and', 'are', 'marked', 'by', 'traditional', 'rituals', ',', 'music', ',', 'dance', ',', 'and', 'feast', '.', 'Art', 'and', 'architecture', 'are', 'also', 'important', 'part', 'of', 'Indian', 'culture', '.', 'The', 'country', 'is', 'home', 'to', 'some', 'of', 'the', 'most', 'beautiful', 'and', 'historic', 'temples', 'and', 'monuments', ',', 'such', 'as', 'the', 'Taj', 'Mahal', ',', 'and', 'the', 'Sun', 'Temple', 'at', 'Konark', '.', 'In', 'short', ',', 'Indian', 'culture', 'is', 'a', 'blend', 'of', 'various', 'customs', ',', 'traditions', ',', 'religions', ',', 'and', 'beliefs', '.', 'From', 'the', 'rich', 'and', 'diverse', 'cuisine', 'to', 'the', 'beautiful', 'shrines', ',', 'temples', ',', 'and', 'monuments', ',', 'Indian', 'culture', 'offers', 'something', 'for', 'everyone', 'to', 'discover', 'and', 'appreciate', '.']\n",
            "257\n"
          ]
        }
      ]
    },
    {
      "cell_type": "markdown",
      "source": [
        "Sentence segmentation"
      ],
      "metadata": {
        "id": "VtzGH2oBwjI_"
      }
    },
    {
      "cell_type": "code",
      "source": [
        "print(sent_tokenize(text_string))\n",
        "print(len(sent_tokenize(text_string)))"
      ],
      "metadata": {
        "id": "jl5hePdFwaDG"
      },
      "execution_count": null,
      "outputs": []
    },
    {
      "cell_type": "markdown",
      "source": [
        "Convert to Lowercase"
      ],
      "metadata": {
        "id": "pN5qNfZwwiH8"
      }
    },
    {
      "cell_type": "code",
      "source": [
        "text_lowercase = text_string.lower()\n",
        "print(text_lowercase)"
      ],
      "metadata": {
        "colab": {
          "base_uri": "https://localhost:8080/"
        },
        "id": "RXavz4KLwoRg",
        "outputId": "1a5b871e-25bd-4452-b6e5-1f334f9d8bf5"
      },
      "execution_count": 78,
      "outputs": [
        {
          "output_type": "stream",
          "name": "stdout",
          "text": [
            " indian culture is a rich and diverse blend of various customs, traditions, religions, and beliefs. india is known for its colorful festivals, delicious cuisine, intricate art and architecture, and spiritual practices.\n",
            "india harbors people from different religions, races, castes, etc. every region has its unique set of culture and lifestyle.\n",
            "an important aspect of indian culture is its assorted cuisine. indian food is known for its use of spices and herbs, which give it its unique flavor and aroma. some popular indian dishes include biryani, dosa, samosas, chole bhature, and tandoori chicken.\n",
            "india is also famous for its vibrant festivals that are celebrated throughout the year. some of the most popular festivals include diwali, the festival of lights, and holi, the festival of colors. these festivals are celebrated with great enthusiasm and are marked by traditional rituals, music, dance, and feast.\n",
            "art and architecture are also important part of indian culture. the country is home to some of the most beautiful and historic temples and monuments, such as the taj mahal, and the sun temple at konark.\n",
            "in short, indian culture is a blend of various customs, traditions, religions, and beliefs. from the rich and diverse cuisine to the beautiful shrines, temples, and monuments, indian culture offers something for everyone to discover and appreciate.\n",
            "\n"
          ]
        }
      ]
    },
    {
      "cell_type": "markdown",
      "source": [
        "Stop words removal"
      ],
      "metadata": {
        "id": "0eE2Mr9Mwoju"
      }
    },
    {
      "cell_type": "code",
      "source": [
        "nltk.download('stopwords')"
      ],
      "metadata": {
        "colab": {
          "base_uri": "https://localhost:8080/"
        },
        "id": "i0M2iYeDwq7H",
        "outputId": "8a57f269-2fbb-421c-96e4-86899f19b563"
      },
      "execution_count": 79,
      "outputs": [
        {
          "output_type": "stream",
          "name": "stderr",
          "text": [
            "[nltk_data] Downloading package stopwords to /root/nltk_data...\n",
            "[nltk_data]   Unzipping corpora/stopwords.zip.\n"
          ]
        },
        {
          "output_type": "execute_result",
          "data": {
            "text/plain": [
              "True"
            ]
          },
          "metadata": {},
          "execution_count": 79
        }
      ]
    },
    {
      "cell_type": "code",
      "source": [
        "from nltk.corpus import stopwords\n",
        "stop_words = set(stopwords.words(\"english\"))\n",
        "filtered_text = [word for word in words if word.lower() not in stop_words]\n",
        "print(\"Text after removing stopwords: \", ' '.join(filtered_text))"
      ],
      "metadata": {
        "colab": {
          "base_uri": "https://localhost:8080/"
        },
        "id": "LSzONc_Cxy2g",
        "outputId": "41255f2e-7e73-4a27-b892-d9600606e064"
      },
      "execution_count": 84,
      "outputs": [
        {
          "output_type": "stream",
          "name": "stdout",
          "text": [
            "Text after removing stopwords:  Indian culture rich diverse blend various customs , traditions , religions , beliefs . India known colorful festivals , delicious cuisine , intricate art architecture , spiritual practices . India harbors people different religions , races , castes , etc . Every region unique set culture lifestyle . important aspect Indian culture assorted cuisine . Indian food known use spices herbs , give unique flavor aroma . popular Indian dishes include biryani , dosa , samosas , chole bhature , tandoori chicken . India also famous vibrant festivals celebrated throughout year . popular festivals include Diwali , festival lights , Holi , festival colors . festivals celebrated great enthusiasm marked traditional rituals , music , dance , feast . Art architecture also important part Indian culture . country home beautiful historic temples monuments , Taj Mahal , Sun Temple Konark . short , Indian culture blend various customs , traditions , religions , beliefs . rich diverse cuisine beautiful shrines , temples , monuments , Indian culture offers something everyone discover appreciate .\n"
          ]
        }
      ]
    },
    {
      "cell_type": "markdown",
      "source": [
        "Stemming"
      ],
      "metadata": {
        "id": "lvx_X3ZdwrST"
      }
    },
    {
      "cell_type": "code",
      "source": [
        "from nltk.stem import PorterStemmer\n",
        "ps_algo = PorterStemmer()\n",
        "for one_word in words:\n",
        "    rootWord = ps_algo.stem(one_word)\n",
        "    print(rootWord)"
      ],
      "metadata": {
        "colab": {
          "base_uri": "https://localhost:8080/"
        },
        "id": "LQW81jqjwrlN",
        "outputId": "5556cb1a-e77d-4ee3-906b-1bf66d7b8e6b"
      },
      "execution_count": 85,
      "outputs": [
        {
          "output_type": "stream",
          "name": "stdout",
          "text": [
            "indian\n",
            "cultur\n",
            "is\n",
            "a\n",
            "rich\n",
            "and\n",
            "divers\n",
            "blend\n",
            "of\n",
            "variou\n",
            "custom\n",
            ",\n",
            "tradit\n",
            ",\n",
            "religion\n",
            ",\n",
            "and\n",
            "belief\n",
            ".\n",
            "india\n",
            "is\n",
            "known\n",
            "for\n",
            "it\n",
            "color\n",
            "festiv\n",
            ",\n",
            "delici\n",
            "cuisin\n",
            ",\n",
            "intric\n",
            "art\n",
            "and\n",
            "architectur\n",
            ",\n",
            "and\n",
            "spiritu\n",
            "practic\n",
            ".\n",
            "india\n",
            "harbor\n",
            "peopl\n",
            "from\n",
            "differ\n",
            "religion\n",
            ",\n",
            "race\n",
            ",\n",
            "cast\n",
            ",\n",
            "etc\n",
            ".\n",
            "everi\n",
            "region\n",
            "ha\n",
            "it\n",
            "uniqu\n",
            "set\n",
            "of\n",
            "cultur\n",
            "and\n",
            "lifestyl\n",
            ".\n",
            "an\n",
            "import\n",
            "aspect\n",
            "of\n",
            "indian\n",
            "cultur\n",
            "is\n",
            "it\n",
            "assort\n",
            "cuisin\n",
            ".\n",
            "indian\n",
            "food\n",
            "is\n",
            "known\n",
            "for\n",
            "it\n",
            "use\n",
            "of\n",
            "spice\n",
            "and\n",
            "herb\n",
            ",\n",
            "which\n",
            "give\n",
            "it\n",
            "it\n",
            "uniqu\n",
            "flavor\n",
            "and\n",
            "aroma\n",
            ".\n",
            "some\n",
            "popular\n",
            "indian\n",
            "dish\n",
            "includ\n",
            "biryani\n",
            ",\n",
            "dosa\n",
            ",\n",
            "samosa\n",
            ",\n",
            "chole\n",
            "bhatur\n",
            ",\n",
            "and\n",
            "tandoori\n",
            "chicken\n",
            ".\n",
            "india\n",
            "is\n",
            "also\n",
            "famou\n",
            "for\n",
            "it\n",
            "vibrant\n",
            "festiv\n",
            "that\n",
            "are\n",
            "celebr\n",
            "throughout\n",
            "the\n",
            "year\n",
            ".\n",
            "some\n",
            "of\n",
            "the\n",
            "most\n",
            "popular\n",
            "festiv\n",
            "includ\n",
            "diwali\n",
            ",\n",
            "the\n",
            "festiv\n",
            "of\n",
            "light\n",
            ",\n",
            "and\n",
            "holi\n",
            ",\n",
            "the\n",
            "festiv\n",
            "of\n",
            "color\n",
            ".\n",
            "these\n",
            "festiv\n",
            "are\n",
            "celebr\n",
            "with\n",
            "great\n",
            "enthusiasm\n",
            "and\n",
            "are\n",
            "mark\n",
            "by\n",
            "tradit\n",
            "ritual\n",
            ",\n",
            "music\n",
            ",\n",
            "danc\n",
            ",\n",
            "and\n",
            "feast\n",
            ".\n",
            "art\n",
            "and\n",
            "architectur\n",
            "are\n",
            "also\n",
            "import\n",
            "part\n",
            "of\n",
            "indian\n",
            "cultur\n",
            ".\n",
            "the\n",
            "countri\n",
            "is\n",
            "home\n",
            "to\n",
            "some\n",
            "of\n",
            "the\n",
            "most\n",
            "beauti\n",
            "and\n",
            "histor\n",
            "templ\n",
            "and\n",
            "monument\n",
            ",\n",
            "such\n",
            "as\n",
            "the\n",
            "taj\n",
            "mahal\n",
            ",\n",
            "and\n",
            "the\n",
            "sun\n",
            "templ\n",
            "at\n",
            "konark\n",
            ".\n",
            "in\n",
            "short\n",
            ",\n",
            "indian\n",
            "cultur\n",
            "is\n",
            "a\n",
            "blend\n",
            "of\n",
            "variou\n",
            "custom\n",
            ",\n",
            "tradit\n",
            ",\n",
            "religion\n",
            ",\n",
            "and\n",
            "belief\n",
            ".\n",
            "from\n",
            "the\n",
            "rich\n",
            "and\n",
            "divers\n",
            "cuisin\n",
            "to\n",
            "the\n",
            "beauti\n",
            "shrine\n",
            ",\n",
            "templ\n",
            ",\n",
            "and\n",
            "monument\n",
            ",\n",
            "indian\n",
            "cultur\n",
            "offer\n",
            "someth\n",
            "for\n",
            "everyon\n",
            "to\n",
            "discov\n",
            "and\n",
            "appreci\n",
            ".\n"
          ]
        }
      ]
    },
    {
      "cell_type": "markdown",
      "source": [
        "Lemmatization"
      ],
      "metadata": {
        "id": "JLXO8RfGwr-0"
      }
    },
    {
      "cell_type": "code",
      "source": [
        "nltk.download('wordnet')"
      ],
      "metadata": {
        "colab": {
          "base_uri": "https://localhost:8080/"
        },
        "id": "hrvkg0kCzDyk",
        "outputId": "cdafa6e2-5541-4865-f084-7f80d0b77d2b"
      },
      "execution_count": 87,
      "outputs": [
        {
          "output_type": "stream",
          "name": "stderr",
          "text": [
            "[nltk_data] Downloading package wordnet to /root/nltk_data...\n"
          ]
        },
        {
          "output_type": "execute_result",
          "data": {
            "text/plain": [
              "True"
            ]
          },
          "metadata": {},
          "execution_count": 87
        }
      ]
    },
    {
      "cell_type": "code",
      "source": [
        "nltk.download('omw-1.4')"
      ],
      "metadata": {
        "colab": {
          "base_uri": "https://localhost:8080/"
        },
        "id": "PPZYuG07zNhA",
        "outputId": "5ffd8dbe-1b25-4cd5-bbdf-683b07d1b50b"
      },
      "execution_count": 89,
      "outputs": [
        {
          "output_type": "stream",
          "name": "stderr",
          "text": [
            "[nltk_data] Downloading package omw-1.4 to /root/nltk_data...\n"
          ]
        },
        {
          "output_type": "execute_result",
          "data": {
            "text/plain": [
              "True"
            ]
          },
          "metadata": {},
          "execution_count": 89
        }
      ]
    },
    {
      "cell_type": "code",
      "source": [
        "from nltk.stem import WordNetLemmatizer\n",
        "lemzr = WordNetLemmatizer()\n",
        "for one_word in words:\n",
        "  rootWord = lemzr.lemmatize(one_word)\n",
        "  print(rootWord)"
      ],
      "metadata": {
        "colab": {
          "base_uri": "https://localhost:8080/"
        },
        "id": "VyQ6oMBXwsVN",
        "outputId": "ee99c9a7-7707-4c01-d8d7-d27e90334d68"
      },
      "execution_count": 90,
      "outputs": [
        {
          "output_type": "stream",
          "name": "stdout",
          "text": [
            "Indian\n",
            "culture\n",
            "is\n",
            "a\n",
            "rich\n",
            "and\n",
            "diverse\n",
            "blend\n",
            "of\n",
            "various\n",
            "custom\n",
            ",\n",
            "tradition\n",
            ",\n",
            "religion\n",
            ",\n",
            "and\n",
            "belief\n",
            ".\n",
            "India\n",
            "is\n",
            "known\n",
            "for\n",
            "it\n",
            "colorful\n",
            "festival\n",
            ",\n",
            "delicious\n",
            "cuisine\n",
            ",\n",
            "intricate\n",
            "art\n",
            "and\n",
            "architecture\n",
            ",\n",
            "and\n",
            "spiritual\n",
            "practice\n",
            ".\n",
            "India\n",
            "harbor\n",
            "people\n",
            "from\n",
            "different\n",
            "religion\n",
            ",\n",
            "race\n",
            ",\n",
            "caste\n",
            ",\n",
            "etc\n",
            ".\n",
            "Every\n",
            "region\n",
            "ha\n",
            "it\n",
            "unique\n",
            "set\n",
            "of\n",
            "culture\n",
            "and\n",
            "lifestyle\n",
            ".\n",
            "An\n",
            "important\n",
            "aspect\n",
            "of\n",
            "Indian\n",
            "culture\n",
            "is\n",
            "it\n",
            "assorted\n",
            "cuisine\n",
            ".\n",
            "Indian\n",
            "food\n",
            "is\n",
            "known\n",
            "for\n",
            "it\n",
            "use\n",
            "of\n",
            "spice\n",
            "and\n",
            "herb\n",
            ",\n",
            "which\n",
            "give\n",
            "it\n",
            "it\n",
            "unique\n",
            "flavor\n",
            "and\n",
            "aroma\n",
            ".\n",
            "Some\n",
            "popular\n",
            "Indian\n",
            "dish\n",
            "include\n",
            "biryani\n",
            ",\n",
            "dosa\n",
            ",\n",
            "samosa\n",
            ",\n",
            "chole\n",
            "bhature\n",
            ",\n",
            "and\n",
            "tandoori\n",
            "chicken\n",
            ".\n",
            "India\n",
            "is\n",
            "also\n",
            "famous\n",
            "for\n",
            "it\n",
            "vibrant\n",
            "festival\n",
            "that\n",
            "are\n",
            "celebrated\n",
            "throughout\n",
            "the\n",
            "year\n",
            ".\n",
            "Some\n",
            "of\n",
            "the\n",
            "most\n",
            "popular\n",
            "festival\n",
            "include\n",
            "Diwali\n",
            ",\n",
            "the\n",
            "festival\n",
            "of\n",
            "light\n",
            ",\n",
            "and\n",
            "Holi\n",
            ",\n",
            "the\n",
            "festival\n",
            "of\n",
            "color\n",
            ".\n",
            "These\n",
            "festival\n",
            "are\n",
            "celebrated\n",
            "with\n",
            "great\n",
            "enthusiasm\n",
            "and\n",
            "are\n",
            "marked\n",
            "by\n",
            "traditional\n",
            "ritual\n",
            ",\n",
            "music\n",
            ",\n",
            "dance\n",
            ",\n",
            "and\n",
            "feast\n",
            ".\n",
            "Art\n",
            "and\n",
            "architecture\n",
            "are\n",
            "also\n",
            "important\n",
            "part\n",
            "of\n",
            "Indian\n",
            "culture\n",
            ".\n",
            "The\n",
            "country\n",
            "is\n",
            "home\n",
            "to\n",
            "some\n",
            "of\n",
            "the\n",
            "most\n",
            "beautiful\n",
            "and\n",
            "historic\n",
            "temple\n",
            "and\n",
            "monument\n",
            ",\n",
            "such\n",
            "a\n",
            "the\n",
            "Taj\n",
            "Mahal\n",
            ",\n",
            "and\n",
            "the\n",
            "Sun\n",
            "Temple\n",
            "at\n",
            "Konark\n",
            ".\n",
            "In\n",
            "short\n",
            ",\n",
            "Indian\n",
            "culture\n",
            "is\n",
            "a\n",
            "blend\n",
            "of\n",
            "various\n",
            "custom\n",
            ",\n",
            "tradition\n",
            ",\n",
            "religion\n",
            ",\n",
            "and\n",
            "belief\n",
            ".\n",
            "From\n",
            "the\n",
            "rich\n",
            "and\n",
            "diverse\n",
            "cuisine\n",
            "to\n",
            "the\n",
            "beautiful\n",
            "shrine\n",
            ",\n",
            "temple\n",
            ",\n",
            "and\n",
            "monument\n",
            ",\n",
            "Indian\n",
            "culture\n",
            "offer\n",
            "something\n",
            "for\n",
            "everyone\n",
            "to\n",
            "discover\n",
            "and\n",
            "appreciate\n",
            ".\n"
          ]
        }
      ]
    },
    {
      "cell_type": "markdown",
      "source": [
        "Part of speech tagging\n"
      ],
      "metadata": {
        "id": "l8jVqQy9wxKN"
      }
    },
    {
      "cell_type": "code",
      "source": [
        "from nltk import pos_tag\n",
        "text_tokens = word_tokenize(text)\n",
        "text_tags = pos_tag(text_tokens)\n",
        "print(\"After POS tagging: \\n\", text_tags)"
      ],
      "metadata": {
        "colab": {
          "base_uri": "https://localhost:8080/"
        },
        "id": "ZWf8i0yawxqb",
        "outputId": "8e14613f-0b94-4805-b2e4-3ad92690b653"
      },
      "execution_count": 77,
      "outputs": [
        {
          "output_type": "stream",
          "name": "stdout",
          "text": [
            "After POS tagging: \n",
            " [('However', 'RB'), ('you', 'PRP'), ('advise', 'VBP'), ('her', 'PRP'), (',', ','), ('she', 'PRP'), ('will', 'MD'), ('probably', 'RB'), ('do', 'VB'), ('it', 'PRP'), ('her', 'PRP$'), ('way', 'NN'), ('.', '.'), ('She', 'PRP'), ('is', 'VBZ'), ('the', 'DT'), ('best', 'JJS'), ('judge', 'NN'), ('of', 'IN'), ('herself', 'NN'), ('.', '.')]\n"
          ]
        }
      ]
    }
  ]
}